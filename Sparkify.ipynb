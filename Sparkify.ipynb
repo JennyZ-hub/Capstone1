{
 "cells": [
  {
   "cell_type": "markdown",
   "metadata": {},
   "source": [
    "# Sparkify Project Workspace\n",
    "This workspace contains a tiny subset (128MB) of the full dataset available (12GB). Feel free to use this workspace to build your project, or to explore a smaller subset with Spark before deploying your cluster on the cloud. Instructions for setting up your Spark cluster is included in the last lesson of the Extracurricular Spark Course content.\n",
    "\n",
    "You can follow the steps below to guide your data analysis and model building portion of this project."
   ]
  },
  {
   "cell_type": "code",
   "execution_count": 1,
   "metadata": {},
   "outputs": [],
   "source": [
    "# import libraries\n",
    "from pyspark.sql import SparkSession\n",
    "from pyspark.sql.functions import udf\n",
    "from pyspark.sql.types import StringType\n",
    "from pyspark.sql.types import IntegerType\n",
    "from pyspark.sql.functions import desc\n",
    "from pyspark.sql.functions import asc\n",
    "from pyspark.sql.functions import sum as Fsum\n",
    "from pyspark.sql.functions import isnan, when, count, col\n",
    "from pyspark.sql import Window\n",
    "from pyspark.ml.classification import LogisticRegression\n",
    "from pyspark.ml.classification import RandomForestClassifier\n",
    "from pyspark.ml.feature import VectorAssembler\n",
    "from pyspark.ml import Pipeline\n",
    "from pyspark.ml.feature import Normalizer\n",
    "from pyspark.ml.classification import DecisionTreeClassifier\n",
    "from pyspark.ml.evaluation import MulticlassClassificationEvaluator, RegressionEvaluator\n",
    "import numpy as np\n",
    "import pandas as pd\n",
    "%matplotlib inline\n",
    "import matplotlib.pyplot as plt\n",
    "from pyspark.ml.tuning import ParamGridBuilder, CrossValidator"
   ]
  },
  {
   "cell_type": "code",
   "execution_count": 2,
   "metadata": {},
   "outputs": [],
   "source": [
    "# create a Spark session\n",
    "spark = SparkSession \\\n",
    "        .builder \\\n",
    "        .appName(\"Sparkify\") \\\n",
    "        .getOrCreate()"
   ]
  },
  {
   "cell_type": "markdown",
   "metadata": {},
   "source": [
    "# Load and Clean Dataset\n",
    "In this workspace, the mini-dataset file is `mini_sparkify_event_data.json`. Load and clean the dataset, checking for invalid or missing data - for example, records without userids or sessionids. "
   ]
  },
  {
   "cell_type": "code",
   "execution_count": 3,
   "metadata": {},
   "outputs": [],
   "source": [
    "#Loading data\n",
    "path = \"mini_sparkify_event_data.json\"\n",
    "mini_sparkify = spark.read.json(path)"
   ]
  },
  {
   "cell_type": "code",
   "execution_count": 4,
   "metadata": {},
   "outputs": [
    {
     "data": {
      "text/plain": [
       "[Row(artist='Martha Tilston', auth='Logged In', firstName='Colin', gender='M', itemInSession=50, lastName='Freeman', length=277.89016, level='paid', location='Bakersfield, CA', method='PUT', page='NextSong', registration=1538173362000, sessionId=29, song='Rockpools', status=200, ts=1538352117000, userAgent='Mozilla/5.0 (Windows NT 6.1; WOW64; rv:31.0) Gecko/20100101 Firefox/31.0', userId='30'),\n",
       " Row(artist='Five Iron Frenzy', auth='Logged In', firstName='Micah', gender='M', itemInSession=79, lastName='Long', length=236.09424, level='free', location='Boston-Cambridge-Newton, MA-NH', method='PUT', page='NextSong', registration=1538331630000, sessionId=8, song='Canada', status=200, ts=1538352180000, userAgent='\"Mozilla/5.0 (Windows NT 6.1; WOW64) AppleWebKit/537.36 (KHTML, like Gecko) Chrome/37.0.2062.103 Safari/537.36\"', userId='9'),\n",
       " Row(artist='Adam Lambert', auth='Logged In', firstName='Colin', gender='M', itemInSession=51, lastName='Freeman', length=282.8273, level='paid', location='Bakersfield, CA', method='PUT', page='NextSong', registration=1538173362000, sessionId=29, song='Time For Miracles', status=200, ts=1538352394000, userAgent='Mozilla/5.0 (Windows NT 6.1; WOW64; rv:31.0) Gecko/20100101 Firefox/31.0', userId='30'),\n",
       " Row(artist='Enigma', auth='Logged In', firstName='Micah', gender='M', itemInSession=80, lastName='Long', length=262.71302, level='free', location='Boston-Cambridge-Newton, MA-NH', method='PUT', page='NextSong', registration=1538331630000, sessionId=8, song='Knocking On Forbidden Doors', status=200, ts=1538352416000, userAgent='\"Mozilla/5.0 (Windows NT 6.1; WOW64) AppleWebKit/537.36 (KHTML, like Gecko) Chrome/37.0.2062.103 Safari/537.36\"', userId='9'),\n",
       " Row(artist='Daft Punk', auth='Logged In', firstName='Colin', gender='M', itemInSession=52, lastName='Freeman', length=223.60771, level='paid', location='Bakersfield, CA', method='PUT', page='NextSong', registration=1538173362000, sessionId=29, song='Harder Better Faster Stronger', status=200, ts=1538352676000, userAgent='Mozilla/5.0 (Windows NT 6.1; WOW64; rv:31.0) Gecko/20100101 Firefox/31.0', userId='30')]"
      ]
     },
     "execution_count": 4,
     "metadata": {},
     "output_type": "execute_result"
    }
   ],
   "source": [
    "mini_sparkify.take(5)"
   ]
  },
  {
   "cell_type": "code",
   "execution_count": 5,
   "metadata": {},
   "outputs": [],
   "source": [
    "mini_sparkify_describe = mini_sparkify.describe().toPandas()"
   ]
  },
  {
   "cell_type": "code",
   "execution_count": 6,
   "metadata": {},
   "outputs": [],
   "source": [
    "#calculate missing values for columns in mini_sparkify\n",
    "null_percentage = (mini_sparkify_describe.iloc[0,1:].astype(np.int).max()-mini_sparkify_describe.iloc[0,1:].astype(np.int)) \\\n",
    "/mini_sparkify_describe.iloc[0,1:].astype(np.int).max()"
   ]
  },
  {
   "cell_type": "code",
   "execution_count": 7,
   "metadata": {},
   "outputs": [
    {
     "data": {
      "text/plain": [
       "artist           0.203812\n",
       "auth             0.000000\n",
       "firstName        0.029131\n",
       "gender           0.029131\n",
       "itemInSession    0.000000\n",
       "lastName         0.029131\n",
       "length           0.203812\n",
       "level            0.000000\n",
       "location         0.029131\n",
       "method           0.000000\n",
       "page             0.000000\n",
       "registration     0.029131\n",
       "sessionId        0.000000\n",
       "song             0.203812\n",
       "status           0.000000\n",
       "ts               0.000000\n",
       "userAgent        0.029131\n",
       "userId           0.000000\n",
       "Name: 0, dtype: float64"
      ]
     },
     "execution_count": 7,
     "metadata": {},
     "output_type": "execute_result"
    }
   ],
   "source": [
    "null_percentage"
   ]
  },
  {
   "cell_type": "code",
   "execution_count": 8,
   "metadata": {},
   "outputs": [
    {
     "data": {
      "text/plain": [
       "<matplotlib.axes._subplots.AxesSubplot at 0x7f6e4bde21d0>"
      ]
     },
     "execution_count": 8,
     "metadata": {},
     "output_type": "execute_result"
    },
    {
     "data": {
      "image/png": "[encoded data removed]",
      "text/plain": [
       "<matplotlib.figure.Figure at 0x7f6e7809b898>"
      ]
     },
     "metadata": {
      "needs_background": "light"
     },
     "output_type": "display_data"
    }
   ],
   "source": [
    "null_percentage.plot.bar(title = 'null_percentage')"
   ]
  },
  {
   "cell_type": "markdown",
   "metadata": {},
   "source": [
    "# Exploratory Data Analysis\n",
    "When you're working with the full dataset, perform EDA by loading a small subset of the data and doing basic manipulations within Spark. In this workspace, you are already provided a small subset of data you can explore.\n",
    "\n",
    "### Define Churn\n",
    "\n",
    "Once you've done some preliminary analysis, create a column `Churn` to use as the label for your model. I suggest using the `Cancellation Confirmation` events to define your churn, which happen for both paid and free users. As a bonus task, you can also look into the `Downgrade` events.\n",
    "\n",
    "### Explore Data\n",
    "Once you've defined churn, perform some exploratory data analysis to observe the behavior for users who stayed vs users who churned. You can start by exploring aggregates on these two groups of users, observing how much of a specific action they experienced per a certain time unit or number of songs played."
   ]
  },
  {
   "cell_type": "code",
   "execution_count": 9,
   "metadata": {},
   "outputs": [
    {
     "name": "stdout",
     "output_type": "stream",
     "text": [
      "+--------------------+\n",
      "|                page|\n",
      "+--------------------+\n",
      "|              Cancel|\n",
      "|    Submit Downgrade|\n",
      "|         Thumbs Down|\n",
      "|                Home|\n",
      "|           Downgrade|\n",
      "|         Roll Advert|\n",
      "|              Logout|\n",
      "|       Save Settings|\n",
      "|Cancellation Conf...|\n",
      "|               About|\n",
      "| Submit Registration|\n",
      "|            Settings|\n",
      "|               Login|\n",
      "|            Register|\n",
      "|     Add to Playlist|\n",
      "|          Add Friend|\n",
      "|            NextSong|\n",
      "|           Thumbs Up|\n",
      "|                Help|\n",
      "|             Upgrade|\n",
      "+--------------------+\n",
      "only showing top 20 rows\n",
      "\n"
     ]
    }
   ],
   "source": [
    "# Check values for column \"page\"\n",
    "mini_sparkify.select(mini_sparkify.page).drop_duplicates().show()"
   ]
  },
  {
   "cell_type": "code",
   "execution_count": 10,
   "metadata": {},
   "outputs": [],
   "source": [
    "def add_Churn(df):\n",
    "    \"\"\"This function is to create a column Churn('Cancellation Confirmation') to use as the label for the model.\"\"\"\n",
    "    flag_cancellation = udf(lambda x: 1 if x =='Cancellation Confirmation' else 0, IntegerType())\n",
    "    df = df.withColumn(\"Cancellation\", flag_cancellation(\"page\"))\n",
    "    windowval = Window.partitionBy(\"userId\").orderBy(\"ts\").rangeBetween(Window.unboundedPreceding, 0)\n",
    "    df = df.withColumn(\"Churn\", Fsum(\"Cancellation\").over(windowval))\n",
    "    return df"
   ]
  },
  {
   "cell_type": "code",
   "execution_count": 11,
   "metadata": {},
   "outputs": [],
   "source": [
    "mini_sparkify = add_Churn(mini_sparkify)"
   ]
  },
  {
   "cell_type": "code",
   "execution_count": 12,
   "metadata": {},
   "outputs": [],
   "source": [
    "mini_sparkify_before_cancellation = mini_sparkify.filter(mini_sparkify[\"Churn\"]==0)"
   ]
  },
  {
   "cell_type": "code",
   "execution_count": 13,
   "metadata": {},
   "outputs": [
    {
     "data": {
      "text/plain": [
       "[Row(artist='Sleeping With Sirens', auth='Logged In', firstName='Darianna', gender='F', itemInSession=0, lastName='Carpenter', length=202.97098, level='free', location='Bridgeport-Stamford-Norwalk, CT', method='PUT', page='NextSong', registration=1538016340000, sessionId=31, song='Captain Tyin Knots VS Mr Walkway (No Way)', status=200, ts=1539003534000, userAgent='\"Mozilla/5.0 (iPhone; CPU iPhone OS 7_1_2 like Mac OS X) AppleWebKit/537.51.2 (KHTML, like Gecko) Version/7.0 Mobile/11D257 Safari/9537.53\"', userId='100010', Cancellation=0, Churn=0),\n",
       " Row(artist='Francesca Battistelli', auth='Logged In', firstName='Darianna', gender='F', itemInSession=1, lastName='Carpenter', length=196.54485, level='free', location='Bridgeport-Stamford-Norwalk, CT', method='PUT', page='NextSong', registration=1538016340000, sessionId=31, song='Beautiful_ Beautiful (Album)', status=200, ts=1539003736000, userAgent='\"Mozilla/5.0 (iPhone; CPU iPhone OS 7_1_2 like Mac OS X) AppleWebKit/537.51.2 (KHTML, like Gecko) Version/7.0 Mobile/11D257 Safari/9537.53\"', userId='100010', Cancellation=0, Churn=0),\n",
       " Row(artist='Brutha', auth='Logged In', firstName='Darianna', gender='F', itemInSession=2, lastName='Carpenter', length=263.13098, level='free', location='Bridgeport-Stamford-Norwalk, CT', method='PUT', page='NextSong', registration=1538016340000, sessionId=31, song=\"She's Gone\", status=200, ts=1539003932000, userAgent='\"Mozilla/5.0 (iPhone; CPU iPhone OS 7_1_2 like Mac OS X) AppleWebKit/537.51.2 (KHTML, like Gecko) Version/7.0 Mobile/11D257 Safari/9537.53\"', userId='100010', Cancellation=0, Churn=0),\n",
       " Row(artist=None, auth='Logged In', firstName='Darianna', gender='F', itemInSession=3, lastName='Carpenter', length=None, level='free', location='Bridgeport-Stamford-Norwalk, CT', method='PUT', page='Thumbs Up', registration=1538016340000, sessionId=31, song=None, status=307, ts=1539003933000, userAgent='\"Mozilla/5.0 (iPhone; CPU iPhone OS 7_1_2 like Mac OS X) AppleWebKit/537.51.2 (KHTML, like Gecko) Version/7.0 Mobile/11D257 Safari/9537.53\"', userId='100010', Cancellation=0, Churn=0),\n",
       " Row(artist='Josh Ritter', auth='Logged In', firstName='Darianna', gender='F', itemInSession=4, lastName='Carpenter', length=316.23791, level='free', location='Bridgeport-Stamford-Norwalk, CT', method='PUT', page='NextSong', registration=1538016340000, sessionId=31, song='Folk Bloodbath', status=200, ts=1539004195000, userAgent='\"Mozilla/5.0 (iPhone; CPU iPhone OS 7_1_2 like Mac OS X) AppleWebKit/537.51.2 (KHTML, like Gecko) Version/7.0 Mobile/11D257 Safari/9537.53\"', userId='100010', Cancellation=0, Churn=0)]"
      ]
     },
     "execution_count": 13,
     "metadata": {},
     "output_type": "execute_result"
    }
   ],
   "source": [
    "mini_sparkify_before_cancellation.take(5)"
   ]
  },
  {
   "cell_type": "code",
   "execution_count": 14,
   "metadata": {},
   "outputs": [],
   "source": [
    "mini_sparkify_matrix1 = mini_sparkify['userId', 'Cancellation'].groupby('userId').sum()# matrix to indicate which user cancalled "
   ]
  },
  {
   "cell_type": "code",
   "execution_count": 15,
   "metadata": {},
   "outputs": [],
   "source": [
    "mini_sparkify_matrix1 = mini_sparkify_matrix1.withColumnRenamed('userId',\"User\")"
   ]
  },
  {
   "cell_type": "code",
   "execution_count": 16,
   "metadata": {},
   "outputs": [
    {
     "data": {
      "text/plain": [
       "[Row(User='100010', sum(Cancellation)=0),\n",
       " Row(User='200002', sum(Cancellation)=0),\n",
       " Row(User='125', sum(Cancellation)=1),\n",
       " Row(User='51', sum(Cancellation)=1),\n",
       " Row(User='124', sum(Cancellation)=0)]"
      ]
     },
     "execution_count": 16,
     "metadata": {},
     "output_type": "execute_result"
    }
   ],
   "source": [
    "mini_sparkify_matrix1.take(5)"
   ]
  },
  {
   "cell_type": "code",
   "execution_count": 17,
   "metadata": {},
   "outputs": [],
   "source": [
    "cancel_percentage = mini_sparkify_matrix1[mini_sparkify_matrix1['sum(Cancellation)']==1].count()/mini_sparkify_matrix1.count()\n",
    "stay_percentage = mini_sparkify_matrix1[mini_sparkify_matrix1['sum(Cancellation)']==0].count()/mini_sparkify_matrix1.count()"
   ]
  },
  {
   "cell_type": "code",
   "execution_count": 18,
   "metadata": {},
   "outputs": [
    {
     "data": {
      "text/plain": [
       "0.23008849557522124"
      ]
     },
     "execution_count": 18,
     "metadata": {},
     "output_type": "execute_result"
    }
   ],
   "source": [
    "cancel_percentage"
   ]
  },
  {
   "cell_type": "code",
   "execution_count": 19,
   "metadata": {},
   "outputs": [
    {
     "data": {
      "text/plain": [
       "<matplotlib.axes._subplots.AxesSubplot at 0x7f6e495905c0>"
      ]
     },
     "execution_count": 19,
     "metadata": {},
     "output_type": "execute_result"
    },
    {
     "data": {
      "image/png": "[encoded data removed]",
      "text/plain": [
       "<matplotlib.figure.Figure at 0x7f6e49556518>"
      ]
     },
     "metadata": {
      "needs_background": "light"
     },
     "output_type": "display_data"
    }
   ],
   "source": [
    "percentage = pd.DataFrame([stay_percentage, cancel_percentage],index  = ['Stay', 'Cancellation'], columns = ['percentage'])\n",
    "percentage.plot.bar(title = 'Cancellation VS Stay Percentage')"
   ]
  },
  {
   "cell_type": "markdown",
   "metadata": {},
   "source": [
    "# Feature Engineering\n",
    "Once you've familiarized yourself with the data, build out the features you find promising to train your model on. To work with the full dataset, you can follow the following steps.\n",
    "- Write a script to extract the necessary features from the smaller subset of data\n",
    "- Ensure that your script is scalable, using the best practices discussed in Lesson 3\n",
    "- Try your script on the full data set, debugging your script if necessary\n",
    "\n",
    "If you are working in the classroom workspace, you can just extract features based on the small subset of data contained here. Be sure to transfer over this work to the larger dataset when you work on your Spark cluster."
   ]
  },
  {
   "cell_type": "code",
   "execution_count": 20,
   "metadata": {},
   "outputs": [],
   "source": [
    "def mini_sparkify_matrix(df):\n",
    "    \"\"\"This function is to create a matrix with necessary features for the model to modeling\n",
    "    Input:\n",
    "       The original data\n",
    "    Output:\n",
    "       The feature matrix for original data\"\"\"   \n",
    "    flag_ThumbsDown = udf(lambda x: 1 if x =='Thumbs Down' else 0, IntegerType())\n",
    "    flag_ThumbsUp = udf(lambda x: 1 if x =='Thumbs Up' else 0, IntegerType())\n",
    "    flag_NextSong = udf(lambda x: 1 if x =='NextSong' else 0, IntegerType())\n",
    "    flag_Playlist = udf(lambda x: 1 if x =='Add to Playlist' else 0, IntegerType())\n",
    "    flag_Downgrade = udf(lambda x: 1 if x =='Submit Downgrade' else 0, IntegerType())\n",
    "    df = df.withColumn(\"ThumbsDown\", flag_ThumbsDown(\"page\"))\\\n",
    "         .withColumn(\"ThumbsUp\", flag_ThumbsUp(\"page\"))\\\n",
    "         .withColumn(\"Songs_num\", flag_NextSong(\"page\"))\\\n",
    "         .withColumn(\"Playlist_songs\", flag_Playlist(\"page\"))\\\n",
    "         .withColumn(\"Downgrade\", flag_Downgrade(\"page\"))\n",
    "    df_matrix = df.groupby('userId').sum()\n",
    "    df_matrix = df_matrix.select([\"userId\", \"sum(ThumbsDown)\",\"sum(ThumbsUp)\", \"sum(Songs_num)\",\"sum(Playlist_songs)\",\"sum(Downgrade)\"])\n",
    "    df_matrix = df_matrix.withColumnRenamed(\"sum(ThumbsDown)\",\"ThumbsDown\")\\\n",
    "                .withColumnRenamed(\"sum(ThumbsUp)\",\"ThumbsUp\")\\\n",
    "                .withColumnRenamed(\"sum(Songs_num)\",\"Total_songs\")\\\n",
    "                .withColumnRenamed(\"sum(Playlist_songs)\",\"Playlist_songs\")\\\n",
    "                .withColumnRenamed(\"sum(Downgrade)\",\"Downgrade\")\n",
    "    return df_matrix"
   ]
  },
  {
   "cell_type": "code",
   "execution_count": 21,
   "metadata": {},
   "outputs": [],
   "source": [
    "mini_sparkify_matrix = mini_sparkify_matrix(mini_sparkify_before_cancellation)"
   ]
  },
  {
   "cell_type": "code",
   "execution_count": 22,
   "metadata": {},
   "outputs": [],
   "source": [
    "# Add label column\n",
    "mini_sparkify_matrix = mini_sparkify_matrix.join(mini_sparkify_matrix1, mini_sparkify_matrix.userId == mini_sparkify_matrix1.User,\\\n",
    "                                                 how='inner')"
   ]
  },
  {
   "cell_type": "code",
   "execution_count": 23,
   "metadata": {},
   "outputs": [],
   "source": [
    "mini_sparkify_matrix = mini_sparkify_matrix.withColumnRenamed(\"sum(Cancellation)\",\"Cancellation\")"
   ]
  },
  {
   "cell_type": "code",
   "execution_count": 24,
   "metadata": {},
   "outputs": [],
   "source": [
    "mini_sparkify_matrix = mini_sparkify_matrix.drop('User')"
   ]
  },
  {
   "cell_type": "code",
   "execution_count": 25,
   "metadata": {},
   "outputs": [
    {
     "data": {
      "text/plain": [
       "[Row(userId='100010', ThumbsDown=5, ThumbsUp=17, Total_songs=275, Playlist_songs=7, Downgrade=0, Cancellation=0),\n",
       " Row(userId='200002', ThumbsDown=6, ThumbsUp=21, Total_songs=387, Playlist_songs=8, Downgrade=0, Cancellation=0),\n",
       " Row(userId='125', ThumbsDown=0, ThumbsUp=0, Total_songs=8, Playlist_songs=0, Downgrade=0, Cancellation=1),\n",
       " Row(userId='124', ThumbsDown=41, ThumbsUp=171, Total_songs=4079, Playlist_songs=118, Downgrade=0, Cancellation=0),\n",
       " Row(userId='51', ThumbsDown=21, ThumbsUp=100, Total_songs=2111, Playlist_songs=52, Downgrade=0, Cancellation=1)]"
      ]
     },
     "execution_count": 25,
     "metadata": {},
     "output_type": "execute_result"
    }
   ],
   "source": [
    "mini_sparkify_matrix.take(5)"
   ]
  },
  {
   "cell_type": "code",
   "execution_count": 26,
   "metadata": {},
   "outputs": [],
   "source": [
    "pd_mini_sparkify_matrix = mini_sparkify_matrix.toPandas()"
   ]
  },
  {
   "cell_type": "code",
   "execution_count": 54,
   "metadata": {},
   "outputs": [
    {
     "data": {
      "image/png": "[encoded data removed]",
      "text/plain": [
       "<matplotlib.figure.Figure at 0x7f6e49048cc0>"
      ]
     },
     "metadata": {
      "needs_background": "light"
     },
     "output_type": "display_data"
    },
    {
     "data": {
      "image/png": "[encoded data removed]",
      "text/plain": [
       "<matplotlib.figure.Figure at 0x7f6e485e6860>"
      ]
     },
     "metadata": {
      "needs_background": "light"
     },
     "output_type": "display_data"
    },
    {
     "data": {
      "image/png": "[encoded data removed]",
      "text/plain": [
       "<matplotlib.figure.Figure at 0x7f6e485965f8>"
      ]
     },
     "metadata": {
      "needs_background": "light"
     },
     "output_type": "display_data"
    },
    {
     "data": {
      "image/png": "[encoded data removed]",
      "text/plain": [
       "<matplotlib.figure.Figure at 0x7f6e48554400>"
      ]
     },
     "metadata": {
      "needs_background": "light"
     },
     "output_type": "display_data"
    },
    {
     "data": {
      "image/png": "[encoded data removed]",
      "text/plain": [
       "<matplotlib.figure.Figure at 0x7f6e485f9ba8>"
      ]
     },
     "metadata": {
      "needs_background": "light"
     },
     "output_type": "display_data"
    },
    {
     "data": {
      "text/plain": [
       "<matplotlib.figure.Figure at 0x7f6e4853cf98>"
      ]
     },
     "metadata": {},
     "output_type": "display_data"
    }
   ],
   "source": [
    "#plot value distribution for mini_sparkify_matrix\n",
    "fig = plt.figure()\n",
    "plt.scatter(pd_mini_sparkify_matrix['userId'].values,pd_mini_sparkify_matrix['ThumbsDown'].values)\n",
    "plt.title('ThumbsDown')\n",
    "plt.xlabel('UserId')\n",
    "plt.ylabel('Amount')\n",
    "fig1 = plt.figure()\n",
    "plt.scatter(pd_mini_sparkify_matrix['userId'],pd_mini_sparkify_matrix['ThumbsUp'].values)\n",
    "plt.title('ThumbsUp')\n",
    "plt.xlabel('UserId')\n",
    "plt.ylabel('Amount')\n",
    "fig2 = plt.figure()\n",
    "plt.scatter(pd_mini_sparkify_matrix['userId'],pd_mini_sparkify_matrix['Total_songs'].values)\n",
    "plt.title('Total_songs')\n",
    "plt.xlabel('UserId')\n",
    "plt.ylabel('Amount')\n",
    "fig3 = plt.figure()\n",
    "plt.scatter(pd_mini_sparkify_matrix['userId'],pd_mini_sparkify_matrix['Playlist_songs'].values)\n",
    "plt.title('Playlist_songs')\n",
    "plt.xlabel('UserId')\n",
    "plt.ylabel('Amount')\n",
    "fig4 = plt.figure()\n",
    "plt.scatter(pd_mini_sparkify_matrix['userId'],pd_mini_sparkify_matrix['Downgrade'].values)\n",
    "plt.title('Downgrade')\n",
    "plt.xlabel('UserId')\n",
    "plt.ylabel('Amount')\n",
    "fig5 = plt.figure()"
   ]
  },
  {
   "cell_type": "markdown",
   "metadata": {},
   "source": [
    "# Modeling\n",
    "Split the full dataset into train, test, and validation sets. Test out several of the machine learning methods you learned. Evaluate the accuracy of the various models, tuning parameters as necessary. Determine your winning model based on test accuracy and report results on the validation set. Since the churned users are a fairly small subset, I suggest using F1 score as the metric to optimize."
   ]
  },
  {
   "cell_type": "code",
   "execution_count": 28,
   "metadata": {},
   "outputs": [],
   "source": [
    "# Split dataset for training model and testing model\n",
    "train, test = mini_sparkify_matrix.randomSplit([0.6,0.2],seed=42) "
   ]
  },
  {
   "cell_type": "code",
   "execution_count": 29,
   "metadata": {},
   "outputs": [],
   "source": [
    "# Configure an ML pipeline, which consists of three stages: assembler, normalizer and (lr,rf,dt)\n",
    "assembler = VectorAssembler(inputCols=['ThumbsDown', 'ThumbsUp', 'Total_songs','Playlist_songs', 'Downgrade'] ,\\\n",
    "                            outputCol=\"features\")\n",
    "normalizer = Normalizer(inputCol=\"features\", outputCol=\"normFeatures\",p=1)\n",
    "lr = LogisticRegression(labelCol=\"Cancellation\", featuresCol=\"normFeatures\")# LogisticRegression model\n",
    "rf = RandomForestClassifier(labelCol=\"Cancellation\", featuresCol=\"normFeatures\")# RandomForest model\n",
    "dt = DecisionTreeClassifier(labelCol=\"Cancellation\", featuresCol=\"normFeatures\")# DecisionTree model\n",
    "lr_pipeline = Pipeline(stages=[assembler,normalizer,lr])\n",
    "rf_pipeline = Pipeline(stages=[assembler,normalizer,rf])\n",
    "dt_pipeline = Pipeline(stages=[assembler,normalizer,dt])"
   ]
  },
  {
   "cell_type": "code",
   "execution_count": 30,
   "metadata": {},
   "outputs": [],
   "source": [
    "# use ParamGridBuilder to construct a grid of parameters to search over\n",
    "lr_paramGrid = ParamGridBuilder() \\\n",
    "    .addGrid(lr.regParam, [0.1, 0.5]) \\\n",
    "    .addGrid(lr.elasticNetParam, [0.1, 0.5]) \\\n",
    "    .build()\n",
    "rf_paramGrid = ParamGridBuilder() \\\n",
    "    .addGrid(normalizer.p, [1, 2]) \\\n",
    "    .addGrid(rf.numTrees, [4, 20]) \\\n",
    "    .addGrid(rf.maxDepth, [5, 20]) \\\n",
    "    .build()\n",
    "dt_paramGrid = ParamGridBuilder() \\\n",
    "    .addGrid(normalizer.p, [1, 2]) \\\n",
    "    .addGrid(dt.maxDepth, [10, 20])\\\n",
    "    .addGrid(dt.maxBins, [10, 20])\\\n",
    "    .build()\n",
    "# use a CrossValidator including an Estimator, a set of Estimator ParamMaps and an Evaluator\n",
    "lr_crossval = CrossValidator(estimator=lr_pipeline,\n",
    "                          estimatorParamMaps=lr_paramGrid,\n",
    "                          evaluator=MulticlassClassificationEvaluator(labelCol=\"Cancellation\", predictionCol=\"prediction\"),\n",
    "                          numFolds=3)  \n",
    "rf_crossval = CrossValidator(estimator=rf_pipeline,\n",
    "                          estimatorParamMaps=rf_paramGrid,\n",
    "                          evaluator=MulticlassClassificationEvaluator(labelCol=\"Cancellation\", predictionCol=\"prediction\"),\n",
    "                          numFolds=3) \n",
    "dt_crossval = CrossValidator(estimator=dt_pipeline,\n",
    "                          estimatorParamMaps=dt_paramGrid,\n",
    "                          evaluator=MulticlassClassificationEvaluator(labelCol=\"Cancellation\", predictionCol=\"prediction\"),\n",
    "                          numFolds=3)"
   ]
  },
  {
   "cell_type": "code",
   "execution_count": 31,
   "metadata": {},
   "outputs": [],
   "source": [
    "# Run cross-validation, and choose the best set of parameters.\n",
    "lrmodel = lr_crossval.fit(train)"
   ]
  },
  {
   "cell_type": "code",
   "execution_count": 41,
   "metadata": {},
   "outputs": [],
   "source": [
    "rfmodel = rf_crossval.fit(train)"
   ]
  },
  {
   "cell_type": "code",
   "execution_count": 44,
   "metadata": {},
   "outputs": [],
   "source": [
    "dtmodel = dt_crossval.fit(train)"
   ]
  },
  {
   "cell_type": "code",
   "execution_count": 51,
   "metadata": {},
   "outputs": [
    {
     "name": "stdout",
     "output_type": "stream",
     "text": [
      "lr_bestParams: regParam: 0.1, elasticNetParam: 0.5 \n"
     ]
    }
   ],
   "source": [
    "# Run bestModel and get the best hyperparameters\n",
    "lr_bestPipeline = lrmodel.bestModel\n",
    "bestLRModel_2 = lr_bestPipeline.stages[2]\n",
    "print('lr_bestParams: regParam: %s, elasticNetParam: %s ' %(bestLRModel_2.getOrDefault('regParam'), \\\n",
    "                                                            bestLRModel_2.getOrDefault('elasticNetParam')))"
   ]
  },
  {
   "cell_type": "code",
   "execution_count": 52,
   "metadata": {},
   "outputs": [
    {
     "name": "stdout",
     "output_type": "stream",
     "text": [
      "rf_bestParams: p-norm: 2.0, numTrees: 4, maxDepth: 20 \n"
     ]
    }
   ],
   "source": [
    "rf_bestPipeline = rfmodel.bestModel\n",
    "bestRFModel_1 = rf_bestPipeline.stages[1]\n",
    "bestRFModel_2 = rf_bestPipeline.stages[2]\n",
    "print('rf_bestParams: p-norm: %s, numTrees: %s, maxDepth: %s ' %(bestRFModel_1.getOrDefault('p'), bestRFModel_2.getOrDefault('numTrees'),\\\n",
    "      bestRFModel_2.getOrDefault('maxDepth')))"
   ]
  },
  {
   "cell_type": "code",
   "execution_count": 53,
   "metadata": {},
   "outputs": [
    {
     "name": "stdout",
     "output_type": "stream",
     "text": [
      "dt_bestParams: p-norm: 2.0, maxDepth: 10, maxBins: 20 \n"
     ]
    }
   ],
   "source": [
    "dt_bestPipeline = dtmodel.bestModel\n",
    "bestDTModel_1 = dt_bestPipeline.stages[1]\n",
    "bestDTModel_2 = dt_bestPipeline.stages[2]\n",
    "print('dt_bestParams: p-norm: %s, maxDepth: %s, maxBins: %s ' %(bestDTModel_1.getOrDefault('p'), bestDTModel_2.getOrDefault('maxDepth'),\\\n",
    "      bestDTModel_2.getOrDefault('maxBins')))"
   ]
  },
  {
   "cell_type": "code",
   "execution_count": 46,
   "metadata": {},
   "outputs": [],
   "source": [
    "def evaluate_model(model, test):\n",
    "    \"\"\"This function is to evaluate_model performance through F1 score\"\"\"\n",
    "    predictions = model.transform(test)\n",
    "    evaluator_f1 = MulticlassClassificationEvaluator(labelCol=\"Cancellation\", predictionCol=\"prediction\", metricName=\"f1\")\n",
    "    f1_score = evaluator_f1.evaluate(predictions)\n",
    "    print(\"f1Score = %s\" % (f1_score))\n",
    "    return (f1_score)"
   ]
  },
  {
   "cell_type": "code",
   "execution_count": 47,
   "metadata": {},
   "outputs": [
    {
     "name": "stdout",
     "output_type": "stream",
     "text": [
      "f1Score = 0.7229036295369211\n"
     ]
    }
   ],
   "source": [
    "lr_evaluate = evaluate_model(lrmodel, test)"
   ]
  },
  {
   "cell_type": "code",
   "execution_count": 48,
   "metadata": {},
   "outputs": [
    {
     "name": "stdout",
     "output_type": "stream",
     "text": [
      "f1Score = 0.7145896656534955\n"
     ]
    }
   ],
   "source": [
    "rf_evaluate = evaluate_model(rfmodel, test)"
   ]
  },
  {
   "cell_type": "code",
   "execution_count": 49,
   "metadata": {},
   "outputs": [
    {
     "name": "stdout",
     "output_type": "stream",
     "text": [
      "f1Score = 0.7129959746981025\n"
     ]
    }
   ],
   "source": [
    "dt_evaluate = evaluate_model(dtmodel, test)"
   ]
  },
  {
   "cell_type": "code",
   "execution_count": 50,
   "metadata": {},
   "outputs": [
    {
     "data": {
      "text/plain": [
       "<matplotlib.axes._subplots.AxesSubplot at 0x7f6e48934828>"
      ]
     },
     "execution_count": 50,
     "metadata": {},
     "output_type": "execute_result"
    },
    {
     "data": {
      "image/png": "[encoded data removed]",
      "text/plain": [
       "<matplotlib.figure.Figure at 0x7f6e48ded588>"
      ]
     },
     "metadata": {
      "needs_background": "light"
     },
     "output_type": "display_data"
    }
   ],
   "source": [
    "data = pd.DataFrame([lr_evaluate, rf_evaluate, dt_evaluate], index = ['LogisticRegression', 'RandomForest', 'DecisionTree'], \\\n",
    "                    columns = ['F1Score'])\n",
    "data.plot.bar(title = 'Model Evaluate')"
   ]
  },
  {
   "cell_type": "markdown",
   "metadata": {},
   "source": [
    "# Final Steps\n",
    "Clean up your code, adding comments and renaming variables to make the code easier to read and maintain. Refer to the Spark Project Overview page and Data Scientist Capstone Project Rubric to make sure you are including all components of the capstone project and meet all expectations. Remember, this includes thorough documentation in a README file in a Github repository, as well as a web app or blog post."
   ]
  },
  {
   "cell_type": "code",
   "execution_count": null,
   "metadata": {},
   "outputs": [],
   "source": []
  }
 ],
 "metadata": {
  "kernelspec": {
   "display_name": "Python 3",
   "language": "python",
   "name": "python3"
  },
  "language_info": {
   "codemirror_mode": {
    "name": "ipython",
    "version": 3
   },
   "file_extension": ".py",
   "mimetype": "text/x-python",
   "name": "python",
   "nbconvert_exporter": "python",
   "pygments_lexer": "ipython3",
   "version": "3.6.3"
  }
 },
 "nbformat": 4,
 "nbformat_minor": 2
}

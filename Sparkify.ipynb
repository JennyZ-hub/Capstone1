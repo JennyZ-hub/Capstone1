{
 "cells": [
  {
   "cell_type": "markdown",
   "metadata": {},
   "source": [
    "# Sparkify Project Workspace\n",
    "This workspace contains a tiny subset (128MB) of the full dataset available (12GB). Feel free to use this workspace to build your project, or to explore a smaller subset with Spark before deploying your cluster on the cloud. Instructions for setting up your Spark cluster is included in the last lesson of the Extracurricular Spark Course content.\n",
    "\n",
    "You can follow the steps below to guide your data analysis and model building portion of this project."
   ]
  },
  {
   "cell_type": "code",
   "execution_count": 24,
   "metadata": {},
   "outputs": [],
   "source": [
    "# import libraries\n",
    "from pyspark.sql import SparkSession\n",
    "from pyspark.sql.functions import udf\n",
    "from pyspark.sql.types import StringType\n",
    "from pyspark.sql.types import IntegerType\n",
    "from pyspark.sql.functions import desc\n",
    "from pyspark.sql.functions import asc\n",
    "from pyspark.sql.functions import sum as Fsum\n",
    "from pyspark.sql.functions import isnan, when, count, col\n",
    "from pyspark.sql import Window\n",
    "from pyspark.ml.classification import LogisticRegression\n",
    "from pyspark.ml.classification import RandomForestClassifier\n",
    "from pyspark.ml.feature import VectorAssembler\n",
    "from pyspark.ml import Pipeline\n",
    "from pyspark.ml.feature import StandardScaler\n",
    "from pyspark.ml.classification import DecisionTreeClassifier\n",
    "from pyspark.ml.evaluation import MulticlassClassificationEvaluator\n",
    "import numpy as np\n",
    "import pandas as pd\n",
    "%matplotlib inline\n",
    "import matplotlib.pyplot as plt"
   ]
  },
  {
   "cell_type": "code",
   "execution_count": 25,
   "metadata": {},
   "outputs": [],
   "source": [
    "# create a Spark session\n",
    "spark = SparkSession \\\n",
    "        .builder \\\n",
    "        .appName(\"Sparkify\") \\\n",
    "        .getOrCreate()"
   ]
  },
  {
   "cell_type": "markdown",
   "metadata": {},
   "source": [
    "# Load and Clean Dataset\n",
    "In this workspace, the mini-dataset file is `mini_sparkify_event_data.json`. Load and clean the dataset, checking for invalid or missing data - for example, records without userids or sessionids. "
   ]
  },
  {
   "cell_type": "code",
   "execution_count": 26,
   "metadata": {},
   "outputs": [],
   "source": [
    "#Loading data\n",
    "path = \"mini_sparkify_event_data.json\"\n",
    "mini_sparkify = spark.read.json(path)"
   ]
  },
  {
   "cell_type": "code",
   "execution_count": 27,
   "metadata": {},
   "outputs": [
    {
     "data": {
      "text/plain": [
       "[Row(artist='Martha Tilston', auth='Logged In', firstName='Colin', gender='M', itemInSession=50, lastName='Freeman', length=277.89016, level='paid', location='Bakersfield, CA', method='PUT', page='NextSong', registration=1538173362000, sessionId=29, song='Rockpools', status=200, ts=1538352117000, userAgent='Mozilla/5.0 (Windows NT 6.1; WOW64; rv:31.0) Gecko/20100101 Firefox/31.0', userId='30'),\n",
       " Row(artist='Five Iron Frenzy', auth='Logged In', firstName='Micah', gender='M', itemInSession=79, lastName='Long', length=236.09424, level='free', location='Boston-Cambridge-Newton, MA-NH', method='PUT', page='NextSong', registration=1538331630000, sessionId=8, song='Canada', status=200, ts=1538352180000, userAgent='\"Mozilla/5.0 (Windows NT 6.1; WOW64) AppleWebKit/537.36 (KHTML, like Gecko) Chrome/37.0.2062.103 Safari/537.36\"', userId='9'),\n",
       " Row(artist='Adam Lambert', auth='Logged In', firstName='Colin', gender='M', itemInSession=51, lastName='Freeman', length=282.8273, level='paid', location='Bakersfield, CA', method='PUT', page='NextSong', registration=1538173362000, sessionId=29, song='Time For Miracles', status=200, ts=1538352394000, userAgent='Mozilla/5.0 (Windows NT 6.1; WOW64; rv:31.0) Gecko/20100101 Firefox/31.0', userId='30'),\n",
       " Row(artist='Enigma', auth='Logged In', firstName='Micah', gender='M', itemInSession=80, lastName='Long', length=262.71302, level='free', location='Boston-Cambridge-Newton, MA-NH', method='PUT', page='NextSong', registration=1538331630000, sessionId=8, song='Knocking On Forbidden Doors', status=200, ts=1538352416000, userAgent='\"Mozilla/5.0 (Windows NT 6.1; WOW64) AppleWebKit/537.36 (KHTML, like Gecko) Chrome/37.0.2062.103 Safari/537.36\"', userId='9'),\n",
       " Row(artist='Daft Punk', auth='Logged In', firstName='Colin', gender='M', itemInSession=52, lastName='Freeman', length=223.60771, level='paid', location='Bakersfield, CA', method='PUT', page='NextSong', registration=1538173362000, sessionId=29, song='Harder Better Faster Stronger', status=200, ts=1538352676000, userAgent='Mozilla/5.0 (Windows NT 6.1; WOW64; rv:31.0) Gecko/20100101 Firefox/31.0', userId='30')]"
      ]
     },
     "execution_count": 27,
     "metadata": {},
     "output_type": "execute_result"
    }
   ],
   "source": [
    "mini_sparkify.take(5)"
   ]
  },
  {
   "cell_type": "code",
   "execution_count": 28,
   "metadata": {},
   "outputs": [
    {
     "data": {
      "text/plain": [
       "0"
      ]
     },
     "execution_count": 28,
     "metadata": {},
     "output_type": "execute_result"
    }
   ],
   "source": [
    "mini_sparkify.filter(\"userId is null\").count()"
   ]
  },
  {
   "cell_type": "code",
   "execution_count": 29,
   "metadata": {},
   "outputs": [
    {
     "name": "stdout",
     "output_type": "stream",
     "text": [
      "+-----------------+------+-------+\n",
      "|           userId| level|   page|\n",
      "+-----------------+------+-------+\n",
      "|           286500|286500| 286500|\n",
      "|59682.02278593872|  null|   null|\n",
      "|109091.9499991047|  null|   null|\n",
      "|                 |  free|  About|\n",
      "|               99|  paid|Upgrade|\n",
      "+-----------------+------+-------+\n",
      "\n"
     ]
    }
   ],
   "source": [
    "mini_sparkify.describe().select(\"userId\",\"level\",\"page\").show()"
   ]
  },
  {
   "cell_type": "code",
   "execution_count": 30,
   "metadata": {},
   "outputs": [
    {
     "data": {
      "text/plain": [
       "0"
      ]
     },
     "execution_count": 30,
     "metadata": {},
     "output_type": "execute_result"
    }
   ],
   "source": [
    "mini_sparkify.filter(\"page is null\").count()"
   ]
  },
  {
   "cell_type": "markdown",
   "metadata": {},
   "source": [
    "# Exploratory Data Analysis\n",
    "When you're working with the full dataset, perform EDA by loading a small subset of the data and doing basic manipulations within Spark. In this workspace, you are already provided a small subset of data you can explore.\n",
    "\n",
    "### Define Churn\n",
    "\n",
    "Once you've done some preliminary analysis, create a column `Churn` to use as the label for your model. I suggest using the `Cancellation Confirmation` events to define your churn, which happen for both paid and free users. As a bonus task, you can also look into the `Downgrade` events.\n",
    "\n",
    "### Explore Data\n",
    "Once you've defined churn, perform some exploratory data analysis to observe the behavior for users who stayed vs users who churned. You can start by exploring aggregates on these two groups of users, observing how much of a specific action they experienced per a certain time unit or number of songs played."
   ]
  },
  {
   "cell_type": "code",
   "execution_count": 31,
   "metadata": {},
   "outputs": [
    {
     "name": "stdout",
     "output_type": "stream",
     "text": [
      "+--------------------+\n",
      "|                page|\n",
      "+--------------------+\n",
      "|              Cancel|\n",
      "|    Submit Downgrade|\n",
      "|         Thumbs Down|\n",
      "|                Home|\n",
      "|           Downgrade|\n",
      "|         Roll Advert|\n",
      "|              Logout|\n",
      "|       Save Settings|\n",
      "|Cancellation Conf...|\n",
      "|               About|\n",
      "| Submit Registration|\n",
      "|            Settings|\n",
      "|               Login|\n",
      "|            Register|\n",
      "|     Add to Playlist|\n",
      "|          Add Friend|\n",
      "|            NextSong|\n",
      "|           Thumbs Up|\n",
      "|                Help|\n",
      "|             Upgrade|\n",
      "+--------------------+\n",
      "only showing top 20 rows\n",
      "\n"
     ]
    }
   ],
   "source": [
    "# Check values for column \"page\"\n",
    "mini_sparkify.select(mini_sparkify.page).drop_duplicates().show()"
   ]
  },
  {
   "cell_type": "code",
   "execution_count": 32,
   "metadata": {},
   "outputs": [],
   "source": [
    "def add_Churn(df):\n",
    "    \"\"\"This function is to create a column Churn('Cancellation Confirmation') to use as the label for the model.\"\"\"\n",
    "    flag_cancellation = udf(lambda x: 1 if x =='Cancellation Confirmation' else 0, IntegerType())\n",
    "    df = df.withColumn(\"Cancellation\", flag_cancellation(\"page\"))\n",
    "    windowval = Window.partitionBy(\"userId\").orderBy(\"ts\").rangeBetween(Window.unboundedPreceding, 0)\n",
    "    df = df.withColumn(\"Churn\", Fsum(\"Cancellation\").over(windowval))\n",
    "    return df"
   ]
  },
  {
   "cell_type": "code",
   "execution_count": 33,
   "metadata": {},
   "outputs": [],
   "source": [
    "mini_sparkify = add_Churn(mini_sparkify)"
   ]
  },
  {
   "cell_type": "code",
   "execution_count": 34,
   "metadata": {},
   "outputs": [],
   "source": [
    "mini_sparkify_before_cancellation = mini_sparkify.filter(mini_sparkify[\"Churn\"]==0)"
   ]
  },
  {
   "cell_type": "code",
   "execution_count": 35,
   "metadata": {},
   "outputs": [
    {
     "data": {
      "text/plain": [
       "[Row(artist='Sleeping With Sirens', auth='Logged In', firstName='Darianna', gender='F', itemInSession=0, lastName='Carpenter', length=202.97098, level='free', location='Bridgeport-Stamford-Norwalk, CT', method='PUT', page='NextSong', registration=1538016340000, sessionId=31, song='Captain Tyin Knots VS Mr Walkway (No Way)', status=200, ts=1539003534000, userAgent='\"Mozilla/5.0 (iPhone; CPU iPhone OS 7_1_2 like Mac OS X) AppleWebKit/537.51.2 (KHTML, like Gecko) Version/7.0 Mobile/11D257 Safari/9537.53\"', userId='100010', Cancellation=0, Churn=0),\n",
       " Row(artist='Francesca Battistelli', auth='Logged In', firstName='Darianna', gender='F', itemInSession=1, lastName='Carpenter', length=196.54485, level='free', location='Bridgeport-Stamford-Norwalk, CT', method='PUT', page='NextSong', registration=1538016340000, sessionId=31, song='Beautiful_ Beautiful (Album)', status=200, ts=1539003736000, userAgent='\"Mozilla/5.0 (iPhone; CPU iPhone OS 7_1_2 like Mac OS X) AppleWebKit/537.51.2 (KHTML, like Gecko) Version/7.0 Mobile/11D257 Safari/9537.53\"', userId='100010', Cancellation=0, Churn=0),\n",
       " Row(artist='Brutha', auth='Logged In', firstName='Darianna', gender='F', itemInSession=2, lastName='Carpenter', length=263.13098, level='free', location='Bridgeport-Stamford-Norwalk, CT', method='PUT', page='NextSong', registration=1538016340000, sessionId=31, song=\"She's Gone\", status=200, ts=1539003932000, userAgent='\"Mozilla/5.0 (iPhone; CPU iPhone OS 7_1_2 like Mac OS X) AppleWebKit/537.51.2 (KHTML, like Gecko) Version/7.0 Mobile/11D257 Safari/9537.53\"', userId='100010', Cancellation=0, Churn=0),\n",
       " Row(artist=None, auth='Logged In', firstName='Darianna', gender='F', itemInSession=3, lastName='Carpenter', length=None, level='free', location='Bridgeport-Stamford-Norwalk, CT', method='PUT', page='Thumbs Up', registration=1538016340000, sessionId=31, song=None, status=307, ts=1539003933000, userAgent='\"Mozilla/5.0 (iPhone; CPU iPhone OS 7_1_2 like Mac OS X) AppleWebKit/537.51.2 (KHTML, like Gecko) Version/7.0 Mobile/11D257 Safari/9537.53\"', userId='100010', Cancellation=0, Churn=0),\n",
       " Row(artist='Josh Ritter', auth='Logged In', firstName='Darianna', gender='F', itemInSession=4, lastName='Carpenter', length=316.23791, level='free', location='Bridgeport-Stamford-Norwalk, CT', method='PUT', page='NextSong', registration=1538016340000, sessionId=31, song='Folk Bloodbath', status=200, ts=1539004195000, userAgent='\"Mozilla/5.0 (iPhone; CPU iPhone OS 7_1_2 like Mac OS X) AppleWebKit/537.51.2 (KHTML, like Gecko) Version/7.0 Mobile/11D257 Safari/9537.53\"', userId='100010', Cancellation=0, Churn=0)]"
      ]
     },
     "execution_count": 35,
     "metadata": {},
     "output_type": "execute_result"
    }
   ],
   "source": [
    "mini_sparkify_before_cancellation.take(5)"
   ]
  },
  {
   "cell_type": "code",
   "execution_count": 36,
   "metadata": {},
   "outputs": [],
   "source": [
    "mini_sparkify_matrix1 = mini_sparkify['userId', 'Cancellation'].groupby('userId').sum()# matrix to indicate which user cancalled "
   ]
  },
  {
   "cell_type": "markdown",
   "metadata": {},
   "source": [
    "# Feature Engineering\n",
    "Once you've familiarized yourself with the data, build out the features you find promising to train your model on. To work with the full dataset, you can follow the following steps.\n",
    "- Write a script to extract the necessary features from the smaller subset of data\n",
    "- Ensure that your script is scalable, using the best practices discussed in Lesson 3\n",
    "- Try your script on the full data set, debugging your script if necessary\n",
    "\n",
    "If you are working in the classroom workspace, you can just extract features based on the small subset of data contained here. Be sure to transfer over this work to the larger dataset when you work on your Spark cluster."
   ]
  },
  {
   "cell_type": "code",
   "execution_count": 37,
   "metadata": {},
   "outputs": [],
   "source": [
    "def mini_sparkify_matrix(df):\n",
    "    \"\"\"This function is to create a matrix with necessary features for the model to modeling\n",
    "    Input:\n",
    "       The original data\n",
    "    Output:\n",
    "       The feature matrix for original data\"\"\"   \n",
    "    flag_ThumbsDown = udf(lambda x: 1 if x =='Thumbs Down' else 0, IntegerType())\n",
    "    flag_ThumbsUp = udf(lambda x: 1 if x =='Thumbs Up' else 0, IntegerType())\n",
    "    flag_NextSong = udf(lambda x: 1 if x =='NextSong' else 0, IntegerType())\n",
    "    flag_Playlist = udf(lambda x: 1 if x =='Add to Playlist' else 0, IntegerType())\n",
    "    flag_Downgrade = udf(lambda x: 1 if x =='Submit Downgrade' else 0, IntegerType())\n",
    "    flag_Registration = udf(lambda x: 1 if x =='Submit Registration' else 0, IntegerType())\n",
    "    df = df.withColumn(\"ThumbsDown\", flag_ThumbsDown(\"page\"))\\\n",
    "         .withColumn(\"ThumbsUp\", flag_ThumbsUp(\"page\"))\\\n",
    "         .withColumn(\"Songs_num\", flag_NextSong(\"page\"))\\\n",
    "         .withColumn(\"Playlist_songs\", flag_Playlist(\"page\"))\\\n",
    "         .withColumn(\"Downgrade\", flag_Downgrade(\"page\"))\\\n",
    "         .withColumn(\"Registration\", flag_Registration(\"page\"))\n",
    "    df_matrix = df.groupby('userId').sum()\n",
    "    df_matrix = df_matrix.select([\"userId\", \"sum(ThumbsDown)\", \"sum(ThumbsUp)\", \"sum(Songs_num)\", \"sum(Playlist_songs)\",  \"sum(Downgrade)\",  \"sum(Registration)\"])\n",
    "    df_matrix = df_matrix.withColumnRenamed(\"sum(ThumbsDown)\",\"ThumbsDown\")\\\n",
    "                .withColumnRenamed(\"sum(ThumbsUp)\",\"ThumbsUp\")\\\n",
    "                .withColumnRenamed(\"sum(Songs_num)\",\"Total_songs\")\\\n",
    "                .withColumnRenamed(\"sum(Playlist_songs)\",\"Playlist_songs\")\\\n",
    "                .withColumnRenamed(\"sum(Downgrade)\",\"Downgrade\")\\\n",
    "                .withColumnRenamed(\"sum(Registration)\",\"Registration\")\n",
    "    return df_matrix"
   ]
  },
  {
   "cell_type": "code",
   "execution_count": 38,
   "metadata": {},
   "outputs": [],
   "source": [
    "mini_sparkify_matrix = mini_sparkify_matrix(mini_sparkify_before_cancellation)"
   ]
  },
  {
   "cell_type": "code",
   "execution_count": 39,
   "metadata": {},
   "outputs": [],
   "source": [
    "# Add label column\n",
    "mini_sparkify_matrix = mini_sparkify_matrix.join(mini_sparkify_matrix1, mini_sparkify_matrix.userId == mini_sparkify_matrix1.userId, how='inner')"
   ]
  },
  {
   "cell_type": "code",
   "execution_count": 40,
   "metadata": {},
   "outputs": [],
   "source": [
    "mini_sparkify_matrix = mini_sparkify_matrix.withColumnRenamed(\"sum(Cancellation)\",\"Cancellation\").drop('userId')"
   ]
  },
  {
   "cell_type": "code",
   "execution_count": 41,
   "metadata": {},
   "outputs": [
    {
     "data": {
      "text/plain": [
       "[Row(ThumbsDown=5, ThumbsUp=17, Total_songs=275, Playlist_songs=7, Downgrade=0, Registration=0, Cancellation=0),\n",
       " Row(ThumbsDown=6, ThumbsUp=21, Total_songs=387, Playlist_songs=8, Downgrade=0, Registration=0, Cancellation=0),\n",
       " Row(ThumbsDown=0, ThumbsUp=0, Total_songs=8, Playlist_songs=0, Downgrade=0, Registration=0, Cancellation=1),\n",
       " Row(ThumbsDown=41, ThumbsUp=171, Total_songs=4079, Playlist_songs=118, Downgrade=0, Registration=0, Cancellation=0),\n",
       " Row(ThumbsDown=21, ThumbsUp=100, Total_songs=2111, Playlist_songs=52, Downgrade=0, Registration=0, Cancellation=1)]"
      ]
     },
     "execution_count": 41,
     "metadata": {},
     "output_type": "execute_result"
    }
   ],
   "source": [
    "mini_sparkify_matrix.take(5)"
   ]
  },
  {
   "cell_type": "markdown",
   "metadata": {},
   "source": [
    "# Modeling\n",
    "Split the full dataset into train, test, and validation sets. Test out several of the machine learning methods you learned. Evaluate the accuracy of the various models, tuning parameters as necessary. Determine your winning model based on test accuracy and report results on the validation set. Since the churned users are a fairly small subset, I suggest using F1 score as the metric to optimize."
   ]
  },
  {
   "cell_type": "code",
   "execution_count": 42,
   "metadata": {},
   "outputs": [],
   "source": [
    "train, test = mini_sparkify_matrix.randomSplit([0.6,0.2],seed=42) # Split dataset for training model and testing model"
   ]
  },
  {
   "cell_type": "code",
   "execution_count": 43,
   "metadata": {},
   "outputs": [],
   "source": [
    "def build_model(train,model_type):\n",
    "    \"\"\"This function is to build different type of models\"\"\"\n",
    "    assembler = VectorAssembler(inputCols=['ThumbsDown', 'ThumbsUp', 'Total_songs', 'Playlist_songs', 'Downgrade', 'Registration'] , outputCol=\"features\")\n",
    "    scaler = StandardScaler(inputCol=\"features\", outputCol=\"scaledFeatures\", withStd=True, withMean=False)\n",
    "    pipeline = Pipeline(stages=[assembler,scaler,model_type])\n",
    "    model = pipeline.fit(train)\n",
    "    return model"
   ]
  },
  {
   "cell_type": "code",
   "execution_count": 49,
   "metadata": {},
   "outputs": [],
   "source": [
    "def evaluate_model(model, test):\n",
    "    \"\"\"This function is to evaluate_model performance through F1 score\"\"\"\n",
    "    predictions = model.transform(test)\n",
    "    evaluator_f1 = MulticlassClassificationEvaluator(labelCol=\"Cancellation\", predictionCol=\"prediction\", metricName=\"f1\")\n",
    "    evaluator_accurancy = MulticlassClassificationEvaluator(labelCol=\"Cancellation\", predictionCol=\"prediction\", metricName=\"accuracy\")\n",
    "    f1_score = evaluator_f1.evaluate(predictions)\n",
    "    accuracy = evaluator_accurancy.evaluate(predictions)\n",
    "    print(\"f1Score = %s, accuracy = %s\" % (f1_score, accuracy))\n",
    "    return (f1_score, accuracy)"
   ]
  },
  {
   "cell_type": "code",
   "execution_count": 45,
   "metadata": {},
   "outputs": [],
   "source": [
    "lr = LogisticRegression(labelCol=\"Cancellation\", featuresCol=\"scaledFeatures\", maxIter=10)# LogisticRegression model\n",
    "rf = RandomForestClassifier(labelCol=\"Cancellation\", featuresCol=\"scaledFeatures\", numTrees=10)# RandomForest model\n",
    "dt = DecisionTreeClassifier(labelCol=\"Cancellation\", featuresCol=\"scaledFeatures\")# DecisionTree model"
   ]
  },
  {
   "cell_type": "code",
   "execution_count": 46,
   "metadata": {},
   "outputs": [],
   "source": [
    "lrmodel = build_model(train,lr)\n",
    "rfmodel = build_model(train,rf)\n",
    "dtmodel = build_model(train,dt)"
   ]
  },
  {
   "cell_type": "code",
   "execution_count": 50,
   "metadata": {},
   "outputs": [
    {
     "name": "stdout",
     "output_type": "stream",
     "text": [
      "f1Score = 0.603285752760571, accuracy = 0.6808510638297872\n"
     ]
    }
   ],
   "source": [
    "lr_evaluate = evaluate_model(lrmodel, test)"
   ]
  },
  {
   "cell_type": "code",
   "execution_count": 52,
   "metadata": {},
   "outputs": [
    {
     "name": "stdout",
     "output_type": "stream",
     "text": [
      "f1Score = 0.6296506997383092, accuracy = 0.6808510638297872\n"
     ]
    }
   ],
   "source": [
    "rf_evaluate = evaluate_model(rfmodel, test)"
   ]
  },
  {
   "cell_type": "code",
   "execution_count": 53,
   "metadata": {},
   "outputs": [
    {
     "name": "stdout",
     "output_type": "stream",
     "text": [
      "f1Score = 0.5898033901838412, accuracy = 0.5957446808510638\n"
     ]
    }
   ],
   "source": [
    "dt_evaluate = evaluate_model(dtmodel, test)"
   ]
  },
  {
   "cell_type": "code",
   "execution_count": 59,
   "metadata": {},
   "outputs": [
    {
     "data": {
      "text/plain": [
       "<matplotlib.axes._subplots.AxesSubplot at 0x7efc34bcf780>"
      ]
     },
     "execution_count": 59,
     "metadata": {},
     "output_type": "execute_result"
    },
    {
     "data": {
      "image/png": "[encoded data removed]",
      "text/plain": [
       "<matplotlib.figure.Figure at 0x7efc36cfaef0>"
      ]
     },
     "metadata": {
      "needs_background": "light"
     },
     "output_type": "display_data"
    }
   ],
   "source": [
    "data = pd.DataFrame([lr_evaluate, rf_evaluate, dt_evaluate], index = ['LogisticRegression', 'RandomForest', 'DecisionTree'], columns = ['F1Score', 'Accuracy'])\n",
    "data.plot.bar(title = 'Model Evaluate')"
   ]
  },
  {
   "cell_type": "markdown",
   "metadata": {},
   "source": [
    "# Final Steps\n",
    "Clean up your code, adding comments and renaming variables to make the code easier to read and maintain. Refer to the Spark Project Overview page and Data Scientist Capstone Project Rubric to make sure you are including all components of the capstone project and meet all expectations. Remember, this includes thorough documentation in a README file in a Github repository, as well as a web app or blog post."
   ]
  },
  {
   "cell_type": "code",
   "execution_count": null,
   "metadata": {},
   "outputs": [],
   "source": []
  }
 ],
 "metadata": {
  "kernelspec": {
   "display_name": "Python 3",
   "language": "python",
   "name": "python3"
  },
  "language_info": {
   "codemirror_mode": {
    "name": "ipython",
    "version": 3
   },
   "file_extension": ".py",
   "mimetype": "text/x-python",
   "name": "python",
   "nbconvert_exporter": "python",
   "pygments_lexer": "ipython3",
   "version": "3.6.3"
  }
 },
 "nbformat": 4,
 "nbformat_minor": 2
}
